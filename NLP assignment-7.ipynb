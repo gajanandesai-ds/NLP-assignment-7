{
 "cells": [
  {
   "cell_type": "raw",
   "id": "b190c546",
   "metadata": {},
   "source": [
    "1. Explain the architecture of BERT"
   ]
  },
  {
   "cell_type": "raw",
   "id": "2766d894",
   "metadata": {},
   "source": [
    "ans:\n",
    "BERT (Bidirectional Encoder Representations from Transformers) is a deep learning model developed by Google that is used for natural language processing (NLP) tasks such as language understanding. The architecture of BERT is based on a transformer-based model, which is a type of neural network that uses attention mechanisms to process input data more efficiently than other approaches. The core component of BERT is its bidirectional encoder, which is a multi-layer transformer network that encodes text in both directions – forward and backward. BERT also uses a number of different techniques to improve its performance, including masking some of the words in the input text, training on large corpora of text, and using a special type of “pre-training” that allows the model to learn general language patterns. Finally, BERT can be fine-tuned to specific tasks by adding additional layers on top of the pre-trained model."
   ]
  },
  {
   "cell_type": "code",
   "execution_count": null,
   "id": "ea44ee31",
   "metadata": {},
   "outputs": [],
   "source": []
  },
  {
   "cell_type": "raw",
   "id": "09e1c212",
   "metadata": {},
   "source": [
    "2. Explain Masked Language Modeling (MLM)"
   ]
  },
  {
   "cell_type": "raw",
   "id": "346287ff",
   "metadata": {},
   "source": [
    "ans:\n",
    "Masked Language Modeling (MLM) is a type of language modeling technique used in natural language processing (NLP) to better understand language. It involves randomly masking (hiding) a portion of the input text, then having the model predict the original word or phrase. This allows the model to better understand the context of words and phrases, as well as their relationships with each other, so it can better predict the right word or phrase in the right context. MLM can be used for a variety of tasks, such as machine translation, question answering, text classification, and many more."
   ]
  },
  {
   "cell_type": "code",
   "execution_count": null,
   "id": "85bd5331",
   "metadata": {},
   "outputs": [],
   "source": []
  },
  {
   "cell_type": "raw",
   "id": "f18fb611",
   "metadata": {},
   "source": [
    "3. Explain Next Sentence Prediction (NSP)"
   ]
  },
  {
   "cell_type": "raw",
   "id": "6aa7035d",
   "metadata": {},
   "source": [
    "ans:\n",
    "Next Sentence Prediction (NSP) is a task in natural language processing (NLP) used to train language models to predict the next sentence given a previous sentence. The model is trained on large corpora of text, and is used to predict the most likely subsequent sentence given the context of the input. The goal of NSP is to enable models to better understand the context of the input, so that they can generate more accurate predictions."
   ]
  },
  {
   "cell_type": "code",
   "execution_count": null,
   "id": "c8fd0c68",
   "metadata": {},
   "outputs": [],
   "source": []
  },
  {
   "cell_type": "raw",
   "id": "3cbe1179",
   "metadata": {},
   "source": [
    "4. What is Matthews evaluation?"
   ]
  },
  {
   "cell_type": "raw",
   "id": "fd921f63",
   "metadata": {},
   "source": [
    "ans:\n",
    "Matthew's evaluation is an assessment tool used to measure the effectiveness of a particular program or intervention. It is used to evaluate the overall impact of a program on its intended target audience, including both positive and negative outcomes. It is also used to measure the effectiveness of a particular intervention against predetermined objectives. The evaluation includes an assessment of the program's impact on the target population, an assessment of the program's costs and benefits, and an evaluation of the program's effectiveness in achieving its goals."
   ]
  },
  {
   "cell_type": "code",
   "execution_count": null,
   "id": "76631838",
   "metadata": {},
   "outputs": [],
   "source": []
  },
  {
   "cell_type": "raw",
   "id": "3f145f3a",
   "metadata": {},
   "source": [
    "5. What is Matthews Correlation Coefficient (MCC)?"
   ]
  },
  {
   "cell_type": "raw",
   "id": "5e29ee0e",
   "metadata": {},
   "source": [
    "ans:\n",
    "Matthews Correlation Coefficient (MCC) is a measure of the quality of a binary classifier. It takes into account true and false positives and negatives and is generally regarded as a balanced measure which can be used even if the classes are of very different sizes. The MCC is a correlation coefficient between -1 and +1, where +1 is the perfect prediction, 0 is no better than random prediction and -1 indicates total disagreement between prediction and observation."
   ]
  },
  {
   "cell_type": "code",
   "execution_count": null,
   "id": "8acd2f0c",
   "metadata": {},
   "outputs": [],
   "source": []
  },
  {
   "cell_type": "raw",
   "id": "1f62a756",
   "metadata": {},
   "source": [
    "6. Explain Semantic Role Labeling"
   ]
  },
  {
   "cell_type": "raw",
   "id": "77eb8efb",
   "metadata": {},
   "source": [
    "ans:\n",
    "Semantic Role Labeling (SRL) is a Natural Language Processing (NLP) task that uses linguistic analysis to identify the semantic roles of each part of a sentence. It is used to identify the arguments of a sentence, as well as their semantic roles, such as agent, patient, theme, and recipient. It can also be used to answer questions such as “who did what?” or “what happened to whom?”. It is a form of shallow semantic parsing and is used to better understand the meaning of a sentence."
   ]
  },
  {
   "cell_type": "code",
   "execution_count": null,
   "id": "6d901af5",
   "metadata": {},
   "outputs": [],
   "source": []
  },
  {
   "cell_type": "raw",
   "id": "7e7865ea",
   "metadata": {},
   "source": [
    "7. Why Fine-tuning a BERT model takes less time than pretraining"
   ]
  },
  {
   "cell_type": "raw",
   "id": "03c152af",
   "metadata": {},
   "source": [
    "ans:\n",
    "Fine-tuning a BERT model typically takes less time than pretraining because the process of fine-tuning uses the already-trained weights of the BERT model as a starting point, while pretraining requires the model to be built from scratch. This means that the fine-tuning process can be much faster because the model has already been trained on a large dataset, so it can quickly learn the task-specific parameters. Additionally, the parameters from the BERT model can be reused during fine-tuning, so there is less time spent on training and more time spent on optimizing the task-specific parameters."
   ]
  },
  {
   "cell_type": "code",
   "execution_count": null,
   "id": "a0a4e01f",
   "metadata": {},
   "outputs": [],
   "source": []
  },
  {
   "cell_type": "raw",
   "id": "df6a0710",
   "metadata": {},
   "source": [
    "8. Recognizing Textual Entailment (RTE)"
   ]
  },
  {
   "cell_type": "raw",
   "id": "235c8ed1",
   "metadata": {},
   "source": [
    "ans:\n",
    "Textual Entailment (RTE) is a task in natural language processing which aims to evaluate the degree to which a hypothesis is supported by a given text. It involves an automated system which is able to determine whether a given piece of text entails, contradicts, or is neutral with respect to a given hypothesis. In other words, it is the task of determining if a given hypothesis is true or false given a piece of text. RTE has numerous applications in areas such as sentiment analysis, summarization, question answering, and machine translation."
   ]
  },
  {
   "cell_type": "code",
   "execution_count": null,
   "id": "6cc96cb9",
   "metadata": {},
   "outputs": [],
   "source": []
  },
  {
   "cell_type": "raw",
   "id": "aa1e406f",
   "metadata": {},
   "source": [
    "9. Explain the decoder stack of GPT models."
   ]
  },
  {
   "cell_type": "raw",
   "id": "1057cd43",
   "metadata": {},
   "source": [
    "ans:\n",
    "The decoder stack of GPT models consists of a series of layers, each of which is responsible for a different part of the language understanding process. The first layer is a token embedding layer, which takes the text tokens as input and produces a vector representation of each token. The next layer is a multi-head attention layer, which allows the model to attend to different parts of the input sequence at the same time. After the attention layer, several layers of Transformer blocks are used to further process the input sequence. These Transformer blocks, which are composed of multi-head attention and feed-forward layers, allow the model to learn relationships between the words and how they interact with each other. Finally, a fully connected layer is used to produce the output of the model."
   ]
  },
  {
   "cell_type": "code",
   "execution_count": null,
   "id": "c0d625c6",
   "metadata": {},
   "outputs": [],
   "source": []
  },
  {
   "cell_type": "code",
   "execution_count": null,
   "id": "02e384d6",
   "metadata": {},
   "outputs": [],
   "source": []
  }
 ],
 "metadata": {
  "kernelspec": {
   "display_name": "Python 3",
   "language": "python",
   "name": "python3"
  },
  "language_info": {
   "codemirror_mode": {
    "name": "ipython",
    "version": 3
   },
   "file_extension": ".py",
   "mimetype": "text/x-python",
   "name": "python",
   "nbconvert_exporter": "python",
   "pygments_lexer": "ipython3",
   "version": "3.8.8"
  }
 },
 "nbformat": 4,
 "nbformat_minor": 5
}
